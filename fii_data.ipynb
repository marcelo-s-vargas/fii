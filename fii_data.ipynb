{
 "cells": [
  {
   "cell_type": "markdown",
   "metadata": {},
   "source": [
    "# FII analysis "
   ]
  },
  {
   "cell_type": "code",
   "execution_count": null,
   "metadata": {},
   "outputs": [],
   "source": [
    "import json\n",
    "import requests"
   ]
  },
  {
   "cell_type": "markdown",
   "metadata": {},
   "source": [
    "## Load all FII symbols"
   ]
  },
  {
   "cell_type": "code",
   "execution_count": null,
   "metadata": {},
   "outputs": [],
   "source": [
    "with open('./data/fii_symbols.json') as f:\n",
    "   json_fii_symbols = json.load(f)\n",
    "\n",
    "print(json_fii_symbols)"
   ]
  },
  {
   "cell_type": "markdown",
   "metadata": {},
   "source": [
    "## General FII Data"
   ]
  },
  {
   "cell_type": "code",
   "execution_count": null,
   "metadata": {},
   "outputs": [],
   "source": [
    "symbol = \"CPTS11\"\n",
    "def get_fii(symbol):\n",
    "    api_url = f\"https://mfinance.com.br/api/v1/fiis?symbols={symbol}\"\n",
    "    response = requests.get(api_url)\n",
    "    return response.json()"
   ]
  },
  {
   "cell_type": "markdown",
   "metadata": {},
   "source": [
    "## FII Dividends"
   ]
  },
  {
   "cell_type": "code",
   "execution_count": null,
   "metadata": {},
   "outputs": [],
   "source": [
    "def get_fii_dividends(symbol):\n",
    "    api_url = f\"https://mfinance.com.br/api/v1/fiis/dividends/{symbol}\"\n",
    "    response = requests.get(api_url)\n",
    "    return response.json()"
   ]
  },
  {
   "cell_type": "markdown",
   "metadata": {},
   "source": [
    "## FII Historical"
   ]
  },
  {
   "cell_type": "code",
   "execution_count": null,
   "metadata": {},
   "outputs": [],
   "source": [
    "def get_fii_historical(symbol):\n",
    "    api_url = f\"https://mfinance.com.br/api/v1/fiis/historicals/{symbol}?months=12\"\n",
    "    response = requests.get(api_url)\n",
    "    return response.json()"
   ]
  },
  {
   "cell_type": "markdown",
   "metadata": {},
   "source": [
    "## Get FII data for all symbols"
   ]
  },
  {
   "cell_type": "code",
   "execution_count": null,
   "metadata": {},
   "outputs": [],
   "source": [
    "for symbol in json_fii_symbols:\n",
    "    fii_gen = get_fii(symbol)\n",
    "    fii_div = get_fii_dividends(symbol)\n",
    "    fii_hist = get_fii_historical(symbol)\n",
    "    \n",
    "    if 'dividends' in fii_div:\n",
    "        fii_gen['dividends'] = fii_div['dividends']\n",
    "    else:\n",
    "        fii_gen['dividends'] = []\n",
    "        print(f\"{symbol} - DIVIDENDS NOT FOUND\")\n",
    "\n",
    "    if 'historicals' in fii_hist:\n",
    "        fii_gen['historical_data'] = fii_hist['historicals']\n",
    "    else:\n",
    "        fii_gen['historical_data'] = []\n",
    "        print(f\"{symbol} - HISTORY NOT FOUND\")\n",
    "\n",
    "    with open(f'./data/fii/fii_{symbol}.json', 'w', encoding='utf-8') as f:\n",
    "        json.dump(fii_gen, f, ensure_ascii=False, indent=4)"
   ]
  },
  {
   "cell_type": "code",
   "execution_count": null,
   "metadata": {},
   "outputs": [],
   "source": []
  }
 ],
 "metadata": {
  "kernelspec": {
   "display_name": "Python 3",
   "language": "python",
   "name": "python3"
  },
  "language_info": {
   "codemirror_mode": {
    "name": "ipython",
    "version": 3
   },
   "file_extension": ".py",
   "mimetype": "text/x-python",
   "name": "python",
   "nbconvert_exporter": "python",
   "pygments_lexer": "ipython3",
   "version": "3.11.1"
  },
  "orig_nbformat": 4
 },
 "nbformat": 4,
 "nbformat_minor": 2
}
