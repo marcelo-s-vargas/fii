{
 "cells": [
  {
   "cell_type": "markdown",
   "metadata": {},
   "source": [
    "# FII analysis "
   ]
  },
  {
   "cell_type": "code",
   "execution_count": 32,
   "metadata": {},
   "outputs": [],
   "source": [
    "import json\n",
    "import requests"
   ]
  },
  {
   "cell_type": "markdown",
   "metadata": {},
   "source": [
    "## Load all FII symbols"
   ]
  },
  {
   "cell_type": "code",
   "execution_count": 33,
   "metadata": {},
   "outputs": [
    {
     "name": "stdout",
     "output_type": "stream",
     "text": [
      "['AFOF11', 'ALZR11', 'ANCR11B', 'ANCR11', 'AQLL11', 'ARCT11', 'AIEC11', 'ARFI11', 'ARFI11B', 'ARRI11', 'ATWN11', 'ALMI11', 'BBFI11', 'BARI11', 'BBFI11B', 'BBFO11', 'BBIM11', 'BBRC11', 'BBPO11', 'ATCR11', 'ATSA11', 'BCRI11', 'BICE11', 'BICR11', 'BJRC11', 'BCIA11', 'BLCP11', 'BLMO11', 'BLMG11', 'BLMR11', 'BMII11', 'BMLC11', 'BBVJ11', 'BCFF11', 'BMLC11B', 'BPMA11', 'BPML11', 'BPFF11', 'BRCR11', 'BPRP11', 'BRCO11', 'BREV11', 'BRHT11', 'BRIM11', 'BNFS11', 'BRHT11B', 'BRIP11', 'BTLG11', 'BTCR11', 'BTSG11', 'BZLI11', 'BVAR11', 'CBOP11', 'CARE11', 'CEOC11', 'CJCT11', 'CJFI11', 'CNES11', 'AFCR11', 'CPFF11', 'CRFF11', 'CPTS11', 'CTXT11', 'CVBI11', 'BTAL11', 'CFHI11', 'CXCE11', 'ABCP11', 'CXCO11', 'DAMT11B', 'DEVA11', 'DLMT11', 'DAMT11', 'CXRI11', 'DMAC11', 'DRIT11', 'DOVL11B', 'DRIT11B', 'EDFO11B', 'DOVL11', 'EDGA11', 'EGYR11', 'ELDO11B', 'CXCE11B', 'ERCR11', 'ELDO11', 'ESTQ11', 'CXTL11', 'EDFO11', 'ERPA11', 'FAMB11', 'FAMB11B', 'FATN11', 'FCAS11', 'FCFL11', 'FEXC11', 'FGPM11', 'EVHF11', 'FIGS11', 'EURO11', 'FAED11', 'FIIP11B', 'EVBI11', 'FINF11', 'FISC11', 'FISD11', 'FIVN11', 'FLMA11', 'FLRP11', 'FIIB11', 'FIIP11', 'FMOF11', 'BRLA11', 'FOFT11', 'FPAB11', 'FLCR11', 'FPNG11', 'FTCE11', 'FTCE11B', 'FTMJ11', 'FVBI11', 'GALG11', 'GCFF11', 'FVPQ11', 'GESE11', 'GESE11B', 'GGRC11', 'GRLV11', 'GWIC11', 'HAAA11', 'GTWR11', 'GCRI11', 'HABT11', 'GSFI11', 'HCTR11', 'HDOF11', 'HCST11', 'HGBS11', 'HFOF11', 'HGCR11', 'HGIC11', 'HBRH11', 'HBTT11', 'HGLG11', 'HBCR11', 'HCRI11', 'HGFF11', 'HGRE11', 'HGPO11', 'HGRU11', 'HOSI11', 'HPDP11', 'HSAF11', 'HSLG11', 'HRDF11', 'HSRE11', 'HSML11', 'HUSC11', 'HTMX11', 'HUSI11', 'HMOC11', 'HLOG11', 'IFID11', 'JBFO11', 'IRDM11', 'JFLL11', 'IFIE11', 'JPPA11', 'JRDM11', 'JPPC11', 'IBFF11', 'JSRE11', 'JSIM11', 'JTPR11', 'IFIX', 'KEVE11', 'HREC11', 'KNHY11', 'KINP11', 'KNRE11', 'KNRI11', 'KNCR11', 'KNSC11', 'LASC11', 'LATR11', 'LATR11B', 'KFOF11', 'KISU11', 'KNIP11', 'LUGG11', 'LOFT11', 'LVBI11', 'MADS11', 'LOFT11B', 'MALL11', 'LOFT13B', 'MBRF11', 'MCFF11', 'MCCI11', 'MAXR11', 'LGCP11', 'MFAI11', 'LFTT11', 'MFII11', 'MGHT11', 'MINT11', 'MGFF11', 'MOFF11', 'MORE11', 'MSHP11', 'MGCR11', 'MTOF11', 'MTRS11', 'MVFI11', 'NCHB11', 'NEWL11', 'MXRF11', 'NPAR11', 'NEWU11', 'NSLU11', 'ORPD11', 'OUCY11', 'OUFF11', 'NVIF11', 'OULG11', 'OUJP11', 'PABY11', 'PATB11', 'OURE11', 'PATC11', 'NVHO11', 'NVIF11B', 'ONEF11', 'PLOG11', 'PNDL11', 'PATL11', 'PLRI11', 'PORD11', 'PQDP11', 'PQAG11', 'PBLV11', 'PLCR11', 'PBYR11', 'PRSN11', 'PRSN11B', 'PRSV11', 'PVBI11', 'PRTS11', 'QAGR11', 'QMFF11', 'RBAG11', 'QREC11', 'RBBV11', 'RBCB11', 'RBCO11', 'RBDS11', 'RBED11', 'RBFF11', 'RBGS11', 'RBIR11', 'RBRD11', 'RBPR11', 'RBHY11', 'RBRL11', 'RBRF11', 'RBRM11', 'RBRP11', 'RBRR11', 'RBRS11', 'RBIV11', 'RBLG11', 'RBPD11', 'RBRU11', 'RCFA11', 'RBTS11', 'RCCS11', 'RCRB11', 'RCRI11', 'RDPD11', 'RECH11', 'RECR11', 'RBRY11', 'RCFF11', 'RBVA11', 'RECT11', 'RBVO11', 'RECX11', 'RNDP11', 'RRCI11', 'RNGO11', 'RMAI11', 'RSBU11B', 'RSPD11', 'REIT11', 'RELG11', 'RFOF11', 'RVBI11', 'RZAK11', 'RZTR11', 'SAAG11', 'SADI11', 'SAIC11', 'SAIC11B', 'SFND11', 'SCPF11', 'SHDP11', 'SHDP11B', 'SHOP11', 'SHPH11', 'SJAU11', 'SOLR11', 'SPAF11', 'SALI11', 'SARE11', 'STFI11', 'STRX11', 'TBOF11', 'TCIN11', 'TCIN12', 'TELD11', 'TCPF11', 'TEPP11', 'SDIL11', 'SPTW11', 'TFOF11', 'TGAR11', 'THRA11', 'TORD11', 'TOUR11', 'TRNT11', 'TORM11', 'SPVJ11', 'TRXB11', 'TSNC11', 'TRXF11', 'TSER11', 'SEQR11', 'URBN11', 'VGIP11', 'VGIR11', 'VIFI11', 'VIDS11', 'VERE11', 'VILG11', 'VISC11', 'VLJS11', 'VLOL11', 'VOTS11', 'VPSI11', 'URPR11', 'VCJR11', 'VINO11', 'VTPA11', 'VTLT11', 'VSEC11', 'VRTA11', 'VSHO11', 'VSLH11', 'VTPL11', 'VTVI11', 'VVPR11', 'VXXV11', 'VTXI11', 'WPLZ11', 'WMRB11B', 'WTSP11', 'WTSP11B', 'XPCI11', 'XPCM11', 'XPGA11', 'XPHT11', 'XPHT12', 'XPIN11', 'XPLG11', 'XPML11', 'XPPR11', 'XTED11', 'XPSF11', 'YUFI11']\n"
     ]
    }
   ],
   "source": [
    "with open('./data/fii_symbols.json') as f:\n",
    "   json_fii_symbols = json.load(f)\n",
    "\n",
    "print(json_fii_symbols)"
   ]
  },
  {
   "cell_type": "markdown",
   "metadata": {},
   "source": [
    "## General FII Data"
   ]
  },
  {
   "cell_type": "code",
   "execution_count": 34,
   "metadata": {},
   "outputs": [],
   "source": [
    "symbol = \"CPTS11\"\n",
    "def get_fii(symbol):\n",
    "    api_url = f\"https://mfinance.com.br/api/v1/fiis?symbols={symbol}\"\n",
    "    response = requests.get(api_url)\n",
    "    return response.json()"
   ]
  },
  {
   "cell_type": "markdown",
   "metadata": {},
   "source": [
    "## FII Dividends"
   ]
  },
  {
   "cell_type": "code",
   "execution_count": 35,
   "metadata": {},
   "outputs": [],
   "source": [
    "def get_fii_dividends(symbol):\n",
    "    api_url = f\"https://mfinance.com.br/api/v1/fiis/dividends/{symbol}\"\n",
    "    response = requests.get(api_url)\n",
    "    return response.json()"
   ]
  },
  {
   "cell_type": "markdown",
   "metadata": {},
   "source": [
    "## FII Historical"
   ]
  },
  {
   "cell_type": "code",
   "execution_count": 36,
   "metadata": {},
   "outputs": [],
   "source": [
    "def get_fii_historical(symbol):\n",
    "    api_url = f\"https://mfinance.com.br/api/v1/fiis/historicals/{symbol}?months=12\"\n",
    "    response = requests.get(api_url)\n",
    "    return response.json()"
   ]
  },
  {
   "cell_type": "markdown",
   "metadata": {},
   "source": [
    "## Get FII data for all symbols"
   ]
  },
  {
   "cell_type": "code",
   "execution_count": 37,
   "metadata": {},
   "outputs": [
    {
     "name": "stdout",
     "output_type": "stream",
     "text": [
      "AFOF11 - HISTORY NOT FOUND\n",
      "ANCR11 - HISTORY NOT FOUND\n",
      "ARFI11 - HISTORY NOT FOUND\n",
      "ATWN11 - HISTORY NOT FOUND\n",
      "BBFI11 - HISTORY NOT FOUND\n",
      "BBIM11 - HISTORY NOT FOUND\n",
      "ATCR11 - HISTORY NOT FOUND\n",
      "BICE11 - HISTORY NOT FOUND\n",
      "BJRC11 - HISTORY NOT FOUND\n",
      "BLMG11 - HISTORY NOT FOUND\n",
      "BLMR11 - HISTORY NOT FOUND\n",
      "BMII11 - HISTORY NOT FOUND\n",
      "BBVJ11 - HISTORY NOT FOUND\n",
      "BMLC11B - HISTORY NOT FOUND\n",
      "BPMA11 - HISTORY NOT FOUND\n",
      "BRHT11 - HISTORY NOT FOUND\n",
      "BRHT11B - HISTORY NOT FOUND\n",
      "BRIP11 - HISTORY NOT FOUND\n",
      "BTSG11 - HISTORY NOT FOUND\n",
      "CJFI11 - HISTORY NOT FOUND\n",
      "BTAL11 - HISTORY NOT FOUND\n",
      "CFHI11 - HISTORY NOT FOUND\n",
      "CXCE11 - HISTORY NOT FOUND\n",
      "CXCO11 - HISTORY NOT FOUND\n",
      "DLMT11 - HISTORY NOT FOUND\n",
      "DAMT11 - HISTORY NOT FOUND\n",
      "DRIT11 - HISTORY NOT FOUND\n",
      "DOVL11 - HISTORY NOT FOUND\n",
      "EGYR11 - HISTORY NOT FOUND\n",
      "ERCR11 - HISTORY NOT FOUND\n",
      "ELDO11 - HISTORY NOT FOUND\n",
      "ESTQ11 - HISTORY NOT FOUND\n",
      "EDFO11 - HISTORY NOT FOUND\n",
      "ERPA11 - HISTORY NOT FOUND\n",
      "FAMB11 - HISTORY NOT FOUND\n",
      "FCAS11 - HISTORY NOT FOUND\n",
      "FGPM11 - HISTORY NOT FOUND\n",
      "EVHF11 - HISTORY NOT FOUND\n",
      "FINF11 - HISTORY NOT FOUND\n",
      "FIIP11 - HISTORY NOT FOUND\n",
      "BRLA11 - HISTORY NOT FOUND\n",
      "FOFT11 - HISTORY NOT FOUND\n",
      "FLCR11 - HISTORY NOT FOUND\n",
      "FTCE11 - HISTORY NOT FOUND\n",
      "FTMJ11 - HISTORY NOT FOUND\n",
      "FVBI11 - HISTORY NOT FOUND\n",
      "GESE11 - HISTORY NOT FOUND\n",
      "GWIC11 - HISTORY NOT FOUND\n",
      "HAAA11 - HISTORY NOT FOUND\n",
      "GCRI11 - HISTORY NOT FOUND\n",
      "HDOF11 - HISTORY NOT FOUND\n",
      "HGIC11 - HISTORY NOT FOUND\n",
      "HBTT11 - HISTORY NOT FOUND\n",
      "HBCR11 - HISTORY NOT FOUND\n",
      "IFID11 - HISTORY NOT FOUND\n",
      "JBFO11 - HISTORY NOT FOUND\n",
      "JFLL11 - HISTORY NOT FOUND\n",
      "JSIM11 - HISTORY NOT FOUND\n",
      "JTPR11 - HISTORY NOT FOUND\n",
      "HREC11 - HISTORY NOT FOUND\n",
      "LATR11 - HISTORY NOT FOUND\n",
      "LOFT11 - HISTORY NOT FOUND\n",
      "MADS11 - HISTORY NOT FOUND\n",
      "MCFF11 - HISTORY NOT FOUND\n",
      "MOFF11 - HISTORY NOT FOUND\n",
      "MSHP11 - HISTORY NOT FOUND\n",
      "MTOF11 - HISTORY NOT FOUND\n",
      "MTRS11 - HISTORY NOT FOUND\n",
      "MVFI11 - HISTORY NOT FOUND\n",
      "NVIF11 - HISTORY NOT FOUND\n",
      "PATB11 - HISTORY NOT FOUND\n",
      "NVIF11B - HISTORY NOT FOUND\n",
      "PLOG11 - HISTORY NOT FOUND\n",
      "PNDL11 - HISTORY NOT FOUND\n",
      "PBLV11 - HISTORY NOT FOUND\n",
      "PBYR11 - HISTORY NOT FOUND\n",
      "PRSN11 - HISTORY NOT FOUND\n",
      "PRTS11 - HISTORY NOT FOUND\n",
      "RBAG11 - HISTORY NOT FOUND\n",
      "QREC11 - HISTORY NOT FOUND\n",
      "RBCB11 - HISTORY NOT FOUND\n",
      "RBPR11 - HISTORY NOT FOUND\n",
      "RBHY11 - HISTORY NOT FOUND\n",
      "RBLG11 - HISTORY NOT FOUND\n",
      "RBPD11 - HISTORY NOT FOUND\n",
      "RBRU11 - HISTORY NOT FOUND\n",
      "RCCS11 - HISTORY NOT FOUND\n",
      "RCRI11 - HISTORY NOT FOUND\n",
      "RECH11 - HISTORY NOT FOUND\n",
      "RECX11 - HISTORY NOT FOUND\n",
      "RSBU11B - HISTORY NOT FOUND\n",
      "SAAG11 - HISTORY NOT FOUND\n",
      "SAIC11 - HISTORY NOT FOUND\n",
      "SFND11 - HISTORY NOT FOUND\n",
      "SHDP11 - HISTORY NOT FOUND\n",
      "SHOP11 - HISTORY NOT FOUND\n",
      "SJAU11 - HISTORY NOT FOUND\n",
      "SOLR11 - HISTORY NOT FOUND\n",
      "SPAF11 - HISTORY NOT FOUND\n",
      "SALI11 - HISTORY NOT FOUND\n",
      "STFI11 - HISTORY NOT FOUND\n",
      "TCIN11 - HISTORY NOT FOUND\n",
      "TCIN12 - HISTORY NOT FOUND\n",
      "TELD11 - HISTORY NOT FOUND\n",
      "TCPF11 - HISTORY NOT FOUND\n",
      "TFOF11 - HISTORY NOT FOUND\n",
      "TORM11 - HISTORY NOT FOUND\n",
      "SPVJ11 - HISTORY NOT FOUND\n",
      "TSNC11 - HISTORY NOT FOUND\n",
      "TSER11 - HISTORY NOT FOUND\n",
      "SEQR11 - HISTORY NOT FOUND\n",
      "URBN11 - HISTORY NOT FOUND\n",
      "VIDS11 - HISTORY NOT FOUND\n",
      "VLJS11 - HISTORY NOT FOUND\n"
     ]
    },
    {
     "ename": "ConnectTimeout",
     "evalue": "HTTPSConnectionPool(host='mfinance.com.br', port=443): Max retries exceeded with url: /api/v1/fiis?symbols=VLOL11 (Caused by ConnectTimeoutError(<urllib3.connection.HTTPSConnection object at 0x000001B7BC2AD290>, 'Connection to mfinance.com.br timed out. (connect timeout=None)'))",
     "output_type": "error",
     "traceback": [
      "\u001b[1;31m---------------------------------------------------------------------------\u001b[0m",
      "\u001b[1;31mTimeoutError\u001b[0m                              Traceback (most recent call last)",
      "File \u001b[1;32m~\\AppData\\Roaming\\Python\\Python311\\site-packages\\urllib3\\connection.py:174\u001b[0m, in \u001b[0;36mHTTPConnection._new_conn\u001b[1;34m(self)\u001b[0m\n\u001b[0;32m    173\u001b[0m \u001b[39mtry\u001b[39;00m:\n\u001b[1;32m--> 174\u001b[0m     conn \u001b[39m=\u001b[39m connection\u001b[39m.\u001b[39;49mcreate_connection(\n\u001b[0;32m    175\u001b[0m         (\u001b[39mself\u001b[39;49m\u001b[39m.\u001b[39;49m_dns_host, \u001b[39mself\u001b[39;49m\u001b[39m.\u001b[39;49mport), \u001b[39mself\u001b[39;49m\u001b[39m.\u001b[39;49mtimeout, \u001b[39m*\u001b[39;49m\u001b[39m*\u001b[39;49mextra_kw\n\u001b[0;32m    176\u001b[0m     )\n\u001b[0;32m    178\u001b[0m \u001b[39mexcept\u001b[39;00m SocketTimeout:\n",
      "File \u001b[1;32m~\\AppData\\Roaming\\Python\\Python311\\site-packages\\urllib3\\util\\connection.py:95\u001b[0m, in \u001b[0;36mcreate_connection\u001b[1;34m(address, timeout, source_address, socket_options)\u001b[0m\n\u001b[0;32m     94\u001b[0m \u001b[39mif\u001b[39;00m err \u001b[39mis\u001b[39;00m \u001b[39mnot\u001b[39;00m \u001b[39mNone\u001b[39;00m:\n\u001b[1;32m---> 95\u001b[0m     \u001b[39mraise\u001b[39;00m err\n\u001b[0;32m     97\u001b[0m \u001b[39mraise\u001b[39;00m socket\u001b[39m.\u001b[39merror(\u001b[39m\"\u001b[39m\u001b[39mgetaddrinfo returns an empty list\u001b[39m\u001b[39m\"\u001b[39m)\n",
      "File \u001b[1;32m~\\AppData\\Roaming\\Python\\Python311\\site-packages\\urllib3\\util\\connection.py:85\u001b[0m, in \u001b[0;36mcreate_connection\u001b[1;34m(address, timeout, source_address, socket_options)\u001b[0m\n\u001b[0;32m     84\u001b[0m     sock\u001b[39m.\u001b[39mbind(source_address)\n\u001b[1;32m---> 85\u001b[0m sock\u001b[39m.\u001b[39mconnect(sa)\n\u001b[0;32m     86\u001b[0m \u001b[39mreturn\u001b[39;00m sock\n",
      "\u001b[1;31mTimeoutError\u001b[0m: [WinError 10060] Uma tentativa de conexão falhou porque o componente conectado não respondeu\r\ncorretamente após um período de tempo ou a conexão estabelecida falhou\r\nporque o host conectado não respondeu",
      "\nDuring handling of the above exception, another exception occurred:\n",
      "\u001b[1;31mConnectTimeoutError\u001b[0m                       Traceback (most recent call last)",
      "File \u001b[1;32m~\\AppData\\Roaming\\Python\\Python311\\site-packages\\urllib3\\connectionpool.py:703\u001b[0m, in \u001b[0;36mHTTPConnectionPool.urlopen\u001b[1;34m(self, method, url, body, headers, retries, redirect, assert_same_host, timeout, pool_timeout, release_conn, chunked, body_pos, **response_kw)\u001b[0m\n\u001b[0;32m    702\u001b[0m \u001b[39m# Make the request on the httplib connection object.\u001b[39;00m\n\u001b[1;32m--> 703\u001b[0m httplib_response \u001b[39m=\u001b[39m \u001b[39mself\u001b[39;49m\u001b[39m.\u001b[39;49m_make_request(\n\u001b[0;32m    704\u001b[0m     conn,\n\u001b[0;32m    705\u001b[0m     method,\n\u001b[0;32m    706\u001b[0m     url,\n\u001b[0;32m    707\u001b[0m     timeout\u001b[39m=\u001b[39;49mtimeout_obj,\n\u001b[0;32m    708\u001b[0m     body\u001b[39m=\u001b[39;49mbody,\n\u001b[0;32m    709\u001b[0m     headers\u001b[39m=\u001b[39;49mheaders,\n\u001b[0;32m    710\u001b[0m     chunked\u001b[39m=\u001b[39;49mchunked,\n\u001b[0;32m    711\u001b[0m )\n\u001b[0;32m    713\u001b[0m \u001b[39m# If we're going to release the connection in ``finally:``, then\u001b[39;00m\n\u001b[0;32m    714\u001b[0m \u001b[39m# the response doesn't need to know about the connection. Otherwise\u001b[39;00m\n\u001b[0;32m    715\u001b[0m \u001b[39m# it will also try to release it and we'll have a double-release\u001b[39;00m\n\u001b[0;32m    716\u001b[0m \u001b[39m# mess.\u001b[39;00m\n",
      "File \u001b[1;32m~\\AppData\\Roaming\\Python\\Python311\\site-packages\\urllib3\\connectionpool.py:386\u001b[0m, in \u001b[0;36mHTTPConnectionPool._make_request\u001b[1;34m(self, conn, method, url, timeout, chunked, **httplib_request_kw)\u001b[0m\n\u001b[0;32m    385\u001b[0m \u001b[39mtry\u001b[39;00m:\n\u001b[1;32m--> 386\u001b[0m     \u001b[39mself\u001b[39;49m\u001b[39m.\u001b[39;49m_validate_conn(conn)\n\u001b[0;32m    387\u001b[0m \u001b[39mexcept\u001b[39;00m (SocketTimeout, BaseSSLError) \u001b[39mas\u001b[39;00m e:\n\u001b[0;32m    388\u001b[0m     \u001b[39m# Py2 raises this as a BaseSSLError, Py3 raises it as socket timeout.\u001b[39;00m\n",
      "File \u001b[1;32m~\\AppData\\Roaming\\Python\\Python311\\site-packages\\urllib3\\connectionpool.py:1042\u001b[0m, in \u001b[0;36mHTTPSConnectionPool._validate_conn\u001b[1;34m(self, conn)\u001b[0m\n\u001b[0;32m   1041\u001b[0m \u001b[39mif\u001b[39;00m \u001b[39mnot\u001b[39;00m \u001b[39mgetattr\u001b[39m(conn, \u001b[39m\"\u001b[39m\u001b[39msock\u001b[39m\u001b[39m\"\u001b[39m, \u001b[39mNone\u001b[39;00m):  \u001b[39m# AppEngine might not have  `.sock`\u001b[39;00m\n\u001b[1;32m-> 1042\u001b[0m     conn\u001b[39m.\u001b[39;49mconnect()\n\u001b[0;32m   1044\u001b[0m \u001b[39mif\u001b[39;00m \u001b[39mnot\u001b[39;00m conn\u001b[39m.\u001b[39mis_verified:\n",
      "File \u001b[1;32m~\\AppData\\Roaming\\Python\\Python311\\site-packages\\urllib3\\connection.py:358\u001b[0m, in \u001b[0;36mHTTPSConnection.connect\u001b[1;34m(self)\u001b[0m\n\u001b[0;32m    356\u001b[0m \u001b[39mdef\u001b[39;00m \u001b[39mconnect\u001b[39m(\u001b[39mself\u001b[39m):\n\u001b[0;32m    357\u001b[0m     \u001b[39m# Add certificate verification\u001b[39;00m\n\u001b[1;32m--> 358\u001b[0m     \u001b[39mself\u001b[39m\u001b[39m.\u001b[39msock \u001b[39m=\u001b[39m conn \u001b[39m=\u001b[39m \u001b[39mself\u001b[39;49m\u001b[39m.\u001b[39;49m_new_conn()\n\u001b[0;32m    359\u001b[0m     hostname \u001b[39m=\u001b[39m \u001b[39mself\u001b[39m\u001b[39m.\u001b[39mhost\n",
      "File \u001b[1;32m~\\AppData\\Roaming\\Python\\Python311\\site-packages\\urllib3\\connection.py:179\u001b[0m, in \u001b[0;36mHTTPConnection._new_conn\u001b[1;34m(self)\u001b[0m\n\u001b[0;32m    178\u001b[0m \u001b[39mexcept\u001b[39;00m SocketTimeout:\n\u001b[1;32m--> 179\u001b[0m     \u001b[39mraise\u001b[39;00m ConnectTimeoutError(\n\u001b[0;32m    180\u001b[0m         \u001b[39mself\u001b[39m,\n\u001b[0;32m    181\u001b[0m         \u001b[39m\"\u001b[39m\u001b[39mConnection to \u001b[39m\u001b[39m%s\u001b[39;00m\u001b[39m timed out. (connect timeout=\u001b[39m\u001b[39m%s\u001b[39;00m\u001b[39m)\u001b[39m\u001b[39m\"\u001b[39m\n\u001b[0;32m    182\u001b[0m         \u001b[39m%\u001b[39m (\u001b[39mself\u001b[39m\u001b[39m.\u001b[39mhost, \u001b[39mself\u001b[39m\u001b[39m.\u001b[39mtimeout),\n\u001b[0;32m    183\u001b[0m     )\n\u001b[0;32m    185\u001b[0m \u001b[39mexcept\u001b[39;00m SocketError \u001b[39mas\u001b[39;00m e:\n",
      "\u001b[1;31mConnectTimeoutError\u001b[0m: (<urllib3.connection.HTTPSConnection object at 0x000001B7BC2AD290>, 'Connection to mfinance.com.br timed out. (connect timeout=None)')",
      "\nDuring handling of the above exception, another exception occurred:\n",
      "\u001b[1;31mMaxRetryError\u001b[0m                             Traceback (most recent call last)",
      "File \u001b[1;32m~\\AppData\\Roaming\\Python\\Python311\\site-packages\\requests\\adapters.py:486\u001b[0m, in \u001b[0;36mHTTPAdapter.send\u001b[1;34m(self, request, stream, timeout, verify, cert, proxies)\u001b[0m\n\u001b[0;32m    485\u001b[0m \u001b[39mtry\u001b[39;00m:\n\u001b[1;32m--> 486\u001b[0m     resp \u001b[39m=\u001b[39m conn\u001b[39m.\u001b[39;49murlopen(\n\u001b[0;32m    487\u001b[0m         method\u001b[39m=\u001b[39;49mrequest\u001b[39m.\u001b[39;49mmethod,\n\u001b[0;32m    488\u001b[0m         url\u001b[39m=\u001b[39;49murl,\n\u001b[0;32m    489\u001b[0m         body\u001b[39m=\u001b[39;49mrequest\u001b[39m.\u001b[39;49mbody,\n\u001b[0;32m    490\u001b[0m         headers\u001b[39m=\u001b[39;49mrequest\u001b[39m.\u001b[39;49mheaders,\n\u001b[0;32m    491\u001b[0m         redirect\u001b[39m=\u001b[39;49m\u001b[39mFalse\u001b[39;49;00m,\n\u001b[0;32m    492\u001b[0m         assert_same_host\u001b[39m=\u001b[39;49m\u001b[39mFalse\u001b[39;49;00m,\n\u001b[0;32m    493\u001b[0m         preload_content\u001b[39m=\u001b[39;49m\u001b[39mFalse\u001b[39;49;00m,\n\u001b[0;32m    494\u001b[0m         decode_content\u001b[39m=\u001b[39;49m\u001b[39mFalse\u001b[39;49;00m,\n\u001b[0;32m    495\u001b[0m         retries\u001b[39m=\u001b[39;49m\u001b[39mself\u001b[39;49m\u001b[39m.\u001b[39;49mmax_retries,\n\u001b[0;32m    496\u001b[0m         timeout\u001b[39m=\u001b[39;49mtimeout,\n\u001b[0;32m    497\u001b[0m         chunked\u001b[39m=\u001b[39;49mchunked,\n\u001b[0;32m    498\u001b[0m     )\n\u001b[0;32m    500\u001b[0m \u001b[39mexcept\u001b[39;00m (ProtocolError, \u001b[39mOSError\u001b[39;00m) \u001b[39mas\u001b[39;00m err:\n",
      "File \u001b[1;32m~\\AppData\\Roaming\\Python\\Python311\\site-packages\\urllib3\\connectionpool.py:787\u001b[0m, in \u001b[0;36mHTTPConnectionPool.urlopen\u001b[1;34m(self, method, url, body, headers, retries, redirect, assert_same_host, timeout, pool_timeout, release_conn, chunked, body_pos, **response_kw)\u001b[0m\n\u001b[0;32m    785\u001b[0m     e \u001b[39m=\u001b[39m ProtocolError(\u001b[39m\"\u001b[39m\u001b[39mConnection aborted.\u001b[39m\u001b[39m\"\u001b[39m, e)\n\u001b[1;32m--> 787\u001b[0m retries \u001b[39m=\u001b[39m retries\u001b[39m.\u001b[39;49mincrement(\n\u001b[0;32m    788\u001b[0m     method, url, error\u001b[39m=\u001b[39;49me, _pool\u001b[39m=\u001b[39;49m\u001b[39mself\u001b[39;49m, _stacktrace\u001b[39m=\u001b[39;49msys\u001b[39m.\u001b[39;49mexc_info()[\u001b[39m2\u001b[39;49m]\n\u001b[0;32m    789\u001b[0m )\n\u001b[0;32m    790\u001b[0m retries\u001b[39m.\u001b[39msleep()\n",
      "File \u001b[1;32m~\\AppData\\Roaming\\Python\\Python311\\site-packages\\urllib3\\util\\retry.py:592\u001b[0m, in \u001b[0;36mRetry.increment\u001b[1;34m(self, method, url, response, error, _pool, _stacktrace)\u001b[0m\n\u001b[0;32m    591\u001b[0m \u001b[39mif\u001b[39;00m new_retry\u001b[39m.\u001b[39mis_exhausted():\n\u001b[1;32m--> 592\u001b[0m     \u001b[39mraise\u001b[39;00m MaxRetryError(_pool, url, error \u001b[39mor\u001b[39;00m ResponseError(cause))\n\u001b[0;32m    594\u001b[0m log\u001b[39m.\u001b[39mdebug(\u001b[39m\"\u001b[39m\u001b[39mIncremented Retry for (url=\u001b[39m\u001b[39m'\u001b[39m\u001b[39m%s\u001b[39;00m\u001b[39m'\u001b[39m\u001b[39m): \u001b[39m\u001b[39m%r\u001b[39;00m\u001b[39m\"\u001b[39m, url, new_retry)\n",
      "\u001b[1;31mMaxRetryError\u001b[0m: HTTPSConnectionPool(host='mfinance.com.br', port=443): Max retries exceeded with url: /api/v1/fiis?symbols=VLOL11 (Caused by ConnectTimeoutError(<urllib3.connection.HTTPSConnection object at 0x000001B7BC2AD290>, 'Connection to mfinance.com.br timed out. (connect timeout=None)'))",
      "\nDuring handling of the above exception, another exception occurred:\n",
      "\u001b[1;31mConnectTimeout\u001b[0m                            Traceback (most recent call last)",
      "Cell \u001b[1;32mIn[37], line 2\u001b[0m\n\u001b[0;32m      1\u001b[0m \u001b[39mfor\u001b[39;00m symbol \u001b[39min\u001b[39;00m json_fii_symbols:\n\u001b[1;32m----> 2\u001b[0m     fii_gen \u001b[39m=\u001b[39m get_fii(symbol)\n\u001b[0;32m      3\u001b[0m     fii_div \u001b[39m=\u001b[39m get_fii_dividends(symbol)\n\u001b[0;32m      4\u001b[0m     fii_hist \u001b[39m=\u001b[39m get_fii_historical(symbol)\n",
      "Cell \u001b[1;32mIn[34], line 4\u001b[0m, in \u001b[0;36mget_fii\u001b[1;34m(symbol)\u001b[0m\n\u001b[0;32m      2\u001b[0m \u001b[39mdef\u001b[39;00m \u001b[39mget_fii\u001b[39m(symbol):\n\u001b[0;32m      3\u001b[0m     api_url \u001b[39m=\u001b[39m \u001b[39mf\u001b[39m\u001b[39m\"\u001b[39m\u001b[39mhttps://mfinance.com.br/api/v1/fiis?symbols=\u001b[39m\u001b[39m{\u001b[39;00msymbol\u001b[39m}\u001b[39;00m\u001b[39m\"\u001b[39m\n\u001b[1;32m----> 4\u001b[0m     response \u001b[39m=\u001b[39m requests\u001b[39m.\u001b[39;49mget(api_url)\n\u001b[0;32m      5\u001b[0m     \u001b[39mreturn\u001b[39;00m response\u001b[39m.\u001b[39mjson()\n",
      "File \u001b[1;32m~\\AppData\\Roaming\\Python\\Python311\\site-packages\\requests\\api.py:73\u001b[0m, in \u001b[0;36mget\u001b[1;34m(url, params, **kwargs)\u001b[0m\n\u001b[0;32m     62\u001b[0m \u001b[39mdef\u001b[39;00m \u001b[39mget\u001b[39m(url, params\u001b[39m=\u001b[39m\u001b[39mNone\u001b[39;00m, \u001b[39m*\u001b[39m\u001b[39m*\u001b[39mkwargs):\n\u001b[0;32m     63\u001b[0m \u001b[39m    \u001b[39m\u001b[39mr\u001b[39m\u001b[39m\"\"\"Sends a GET request.\u001b[39;00m\n\u001b[0;32m     64\u001b[0m \n\u001b[0;32m     65\u001b[0m \u001b[39m    :param url: URL for the new :class:`Request` object.\u001b[39;00m\n\u001b[1;32m   (...)\u001b[0m\n\u001b[0;32m     70\u001b[0m \u001b[39m    :rtype: requests.Response\u001b[39;00m\n\u001b[0;32m     71\u001b[0m \u001b[39m    \"\"\"\u001b[39;00m\n\u001b[1;32m---> 73\u001b[0m     \u001b[39mreturn\u001b[39;00m request(\u001b[39m\"\u001b[39;49m\u001b[39mget\u001b[39;49m\u001b[39m\"\u001b[39;49m, url, params\u001b[39m=\u001b[39;49mparams, \u001b[39m*\u001b[39;49m\u001b[39m*\u001b[39;49mkwargs)\n",
      "File \u001b[1;32m~\\AppData\\Roaming\\Python\\Python311\\site-packages\\requests\\api.py:59\u001b[0m, in \u001b[0;36mrequest\u001b[1;34m(method, url, **kwargs)\u001b[0m\n\u001b[0;32m     55\u001b[0m \u001b[39m# By using the 'with' statement we are sure the session is closed, thus we\u001b[39;00m\n\u001b[0;32m     56\u001b[0m \u001b[39m# avoid leaving sockets open which can trigger a ResourceWarning in some\u001b[39;00m\n\u001b[0;32m     57\u001b[0m \u001b[39m# cases, and look like a memory leak in others.\u001b[39;00m\n\u001b[0;32m     58\u001b[0m \u001b[39mwith\u001b[39;00m sessions\u001b[39m.\u001b[39mSession() \u001b[39mas\u001b[39;00m session:\n\u001b[1;32m---> 59\u001b[0m     \u001b[39mreturn\u001b[39;00m session\u001b[39m.\u001b[39;49mrequest(method\u001b[39m=\u001b[39;49mmethod, url\u001b[39m=\u001b[39;49murl, \u001b[39m*\u001b[39;49m\u001b[39m*\u001b[39;49mkwargs)\n",
      "File \u001b[1;32m~\\AppData\\Roaming\\Python\\Python311\\site-packages\\requests\\sessions.py:589\u001b[0m, in \u001b[0;36mSession.request\u001b[1;34m(self, method, url, params, data, headers, cookies, files, auth, timeout, allow_redirects, proxies, hooks, stream, verify, cert, json)\u001b[0m\n\u001b[0;32m    584\u001b[0m send_kwargs \u001b[39m=\u001b[39m {\n\u001b[0;32m    585\u001b[0m     \u001b[39m\"\u001b[39m\u001b[39mtimeout\u001b[39m\u001b[39m\"\u001b[39m: timeout,\n\u001b[0;32m    586\u001b[0m     \u001b[39m\"\u001b[39m\u001b[39mallow_redirects\u001b[39m\u001b[39m\"\u001b[39m: allow_redirects,\n\u001b[0;32m    587\u001b[0m }\n\u001b[0;32m    588\u001b[0m send_kwargs\u001b[39m.\u001b[39mupdate(settings)\n\u001b[1;32m--> 589\u001b[0m resp \u001b[39m=\u001b[39m \u001b[39mself\u001b[39;49m\u001b[39m.\u001b[39;49msend(prep, \u001b[39m*\u001b[39;49m\u001b[39m*\u001b[39;49msend_kwargs)\n\u001b[0;32m    591\u001b[0m \u001b[39mreturn\u001b[39;00m resp\n",
      "File \u001b[1;32m~\\AppData\\Roaming\\Python\\Python311\\site-packages\\requests\\sessions.py:703\u001b[0m, in \u001b[0;36mSession.send\u001b[1;34m(self, request, **kwargs)\u001b[0m\n\u001b[0;32m    700\u001b[0m start \u001b[39m=\u001b[39m preferred_clock()\n\u001b[0;32m    702\u001b[0m \u001b[39m# Send the request\u001b[39;00m\n\u001b[1;32m--> 703\u001b[0m r \u001b[39m=\u001b[39m adapter\u001b[39m.\u001b[39;49msend(request, \u001b[39m*\u001b[39;49m\u001b[39m*\u001b[39;49mkwargs)\n\u001b[0;32m    705\u001b[0m \u001b[39m# Total elapsed time of the request (approximately)\u001b[39;00m\n\u001b[0;32m    706\u001b[0m elapsed \u001b[39m=\u001b[39m preferred_clock() \u001b[39m-\u001b[39m start\n",
      "File \u001b[1;32m~\\AppData\\Roaming\\Python\\Python311\\site-packages\\requests\\adapters.py:507\u001b[0m, in \u001b[0;36mHTTPAdapter.send\u001b[1;34m(self, request, stream, timeout, verify, cert, proxies)\u001b[0m\n\u001b[0;32m    504\u001b[0m \u001b[39mif\u001b[39;00m \u001b[39misinstance\u001b[39m(e\u001b[39m.\u001b[39mreason, ConnectTimeoutError):\n\u001b[0;32m    505\u001b[0m     \u001b[39m# TODO: Remove this in 3.0.0: see #2811\u001b[39;00m\n\u001b[0;32m    506\u001b[0m     \u001b[39mif\u001b[39;00m \u001b[39mnot\u001b[39;00m \u001b[39misinstance\u001b[39m(e\u001b[39m.\u001b[39mreason, NewConnectionError):\n\u001b[1;32m--> 507\u001b[0m         \u001b[39mraise\u001b[39;00m ConnectTimeout(e, request\u001b[39m=\u001b[39mrequest)\n\u001b[0;32m    509\u001b[0m \u001b[39mif\u001b[39;00m \u001b[39misinstance\u001b[39m(e\u001b[39m.\u001b[39mreason, ResponseError):\n\u001b[0;32m    510\u001b[0m     \u001b[39mraise\u001b[39;00m RetryError(e, request\u001b[39m=\u001b[39mrequest)\n",
      "\u001b[1;31mConnectTimeout\u001b[0m: HTTPSConnectionPool(host='mfinance.com.br', port=443): Max retries exceeded with url: /api/v1/fiis?symbols=VLOL11 (Caused by ConnectTimeoutError(<urllib3.connection.HTTPSConnection object at 0x000001B7BC2AD290>, 'Connection to mfinance.com.br timed out. (connect timeout=None)'))"
     ]
    }
   ],
   "source": [
    "for symbol in json_fii_symbols:\n",
    "    fii_gen = get_fii(symbol)\n",
    "    fii_div = get_fii_dividends(symbol)\n",
    "    fii_hist = get_fii_historical(symbol)\n",
    "    \n",
    "    if 'dividends' in fii_div:\n",
    "        fii_gen['dividends'] = fii_div['dividends']\n",
    "    else:\n",
    "        fii_gen['dividends'] = []\n",
    "        print(f\"{symbol} - DIVIDENDS NOT FOUND\")\n",
    "\n",
    "    if 'historicals' in fii_hist:\n",
    "        fii_gen['historical_data'] = fii_hist['historicals']\n",
    "    else:\n",
    "        fii_gen['historical_data'] = []\n",
    "        print(f\"{symbol} - HISTORY NOT FOUND\")\n",
    "\n",
    "    with open(f'./data/fii/fii_{symbol}.json', 'w', encoding='utf-8') as f:\n",
    "        json.dump(fii_gen, f, ensure_ascii=False, indent=4)"
   ]
  },
  {
   "cell_type": "code",
   "execution_count": null,
   "metadata": {},
   "outputs": [],
   "source": []
  }
 ],
 "metadata": {
  "kernelspec": {
   "display_name": "Python 3",
   "language": "python",
   "name": "python3"
  },
  "language_info": {
   "codemirror_mode": {
    "name": "ipython",
    "version": 3
   },
   "file_extension": ".py",
   "mimetype": "text/x-python",
   "name": "python",
   "nbconvert_exporter": "python",
   "pygments_lexer": "ipython3",
   "version": "3.11.1"
  },
  "orig_nbformat": 4
 },
 "nbformat": 4,
 "nbformat_minor": 2
}
